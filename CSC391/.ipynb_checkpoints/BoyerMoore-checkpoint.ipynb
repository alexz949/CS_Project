{
 "cells": [
  {
   "cell_type": "markdown",
   "id": "92b399e1",
   "metadata": {},
   "source": [
    "## Boyer Moore Algorithm"
   ]
  },
  {
   "cell_type": "code",
   "execution_count": 17,
   "id": "31d2b580",
   "metadata": {},
   "outputs": [
    {
     "name": "stdout",
     "output_type": "stream",
     "text": [
      "It occurs at index 4\n"
     ]
    }
   ],
   "source": [
    "import sys\n",
    "def boyer_moore(text, pattern):\n",
    "    p_len = len(pattern)\n",
    "    t_len = len(text)\n",
    "    #base case\n",
    "    if p_len > t_len:\n",
    "        return -1\n",
    "    #intialization\n",
    "    skip = [p_len] * 100000\n",
    "    \n",
    "    for i in range(p_len - 1):\n",
    "        skip[ord(pattern[i])] = p_len - i - 1\n",
    "    i = p_len - 1\n",
    "    while i < t_len:\n",
    "        j = p_len - 1\n",
    "        while text[i] == pattern[j]:\n",
    "            if j == 0:\n",
    "                return i\n",
    "            i -= 1\n",
    "            j -= 1\n",
    "        i += max(skip[ord(text[i])], p_len - j)\n",
    "    return -1\n",
    "\n",
    "\n",
    "def main():\n",
    "    text = \"ABBBBCBCBABACB\"\n",
    "    pattern = \"BCB\"\n",
    "    num = boyer_moore(text, pattern)\n",
    "    print(\"It occurs at index\",num)\n",
    "    \n",
    "    \n",
    "if __name__  == \"__main__\":\n",
    "    main()"
   ]
  },
  {
   "cell_type": "code",
   "execution_count": null,
   "id": "cca4fa1e",
   "metadata": {},
   "outputs": [],
   "source": []
  }
 ],
 "metadata": {
  "kernelspec": {
   "display_name": "Python 3 (ipykernel)",
   "language": "python",
   "name": "python3"
  },
  "language_info": {
   "codemirror_mode": {
    "name": "ipython",
    "version": 3
   },
   "file_extension": ".py",
   "mimetype": "text/x-python",
   "name": "python",
   "nbconvert_exporter": "python",
   "pygments_lexer": "ipython3",
   "version": "3.9.13"
  }
 },
 "nbformat": 4,
 "nbformat_minor": 5
}
