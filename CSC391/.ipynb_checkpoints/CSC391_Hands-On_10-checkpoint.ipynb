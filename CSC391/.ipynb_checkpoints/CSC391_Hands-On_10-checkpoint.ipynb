{
 "cells": [
  {
   "cell_type": "markdown",
   "metadata": {
    "tags": []
   },
   "source": [
    "## Hands-On 10: PWM_One - Constructing PWM [Updated: March 13, 2023]"
   ]
  },
  {
   "cell_type": "markdown",
   "metadata": {},
   "source": [
    "### Problem A: [5' Splice Sites]"
   ]
  },
  {
   "cell_type": "markdown",
   "metadata": {},
   "source": [
    "From Hands-On Ten, Question 7: <br><br>\n",
    "7) To double-check the values of Table 4, run the Python program, create_pwm.py, that:\n",
    "\n",
    "* Takes as input the seven 9-mers created in part 1) of this hands-on exercise, saved in the file:  <font color=blue>**mog_9mers.txt**</font>\n",
    "* Computes the probability of occurrence of each base at each position. \n",
    "* Computes the 36 log-odds scores (log of observed/expected) where expected is 0.28 for A’s and T’s, and 0.22 for C’s and G’s, and with pseudocount values = 1.\n",
    "* Writes the 36 values of the entries of the PWM into a file: \n",
    "<font color=blue>**mog_9mers_pwm.txt**</font>\n",
    " - Note: <font color=blue>**mog_9mers_pwm.txt**</font> has 4 rows with 9 values in each row, as in Table 4.\n"
   ]
  },
  {
   "cell_type": "markdown",
   "metadata": {},
   "source": [
    "The 9 mers of <font color=blue>**mog_9mers.txt**</font>:\n",
    "* CAGGTAAGA \n",
    "* AAGGTGAGT \n",
    "* GAGGTACAG\n",
    "* TAGGTGAGT\n",
    "* TTGGTAAGT\n",
    "* CAGGTGCAG\n",
    "* TACGTAAGT"
   ]
  },
  {
   "cell_type": "code",
   "execution_count": 2,
   "metadata": {},
   "outputs": [],
   "source": [
    "# create_pwm.py\n",
    "# Author: Sami Khuri\n",
    "# Last updated: March 1, 2023\n",
    "# Purpose: Program to create a position weight matrix from the 9-mers of MOG\n",
    "# Program uses the Python function open() and the Python methods readlines(),\n",
    "# write(), close(), strip(), and log(), and the math package\n",
    "#\n",
    " \n",
    "import math\n",
    "\n",
    "# Initialize the PWM with four rows and nine columns [i.e., 4 lists of zeros]\n",
    "a = [0]*9\n",
    "c = [0]*9\n",
    "g = [0]*9\n",
    "t = [0]*9\n",
    "\n",
    "# Take mog_9mers.txt as input\n",
    "# Read line by line, stripping the end of line character and\n",
    "# updating the PWM with the frequencies of each base at the 9 positions\n",
    "input_file = open(\"mog_9mers.txt\",\"r\")   \n",
    "for line in input_file.readlines():\n",
    "    line = line.strip('\\n')\n",
    "    for i in range(9):\n",
    "        if line[i] == 'A':\n",
    "            a[i] = a[i]+1\n",
    "        elif line[i] == 'C':\n",
    "            c[i] = c[i]+1\n",
    "        elif line[i] == 'G':\n",
    "            g[i] = g[i]+1\n",
    "        else:\n",
    "            t[i] = t[i]+1\n",
    "            \n",
    "input_file.close()\n",
    "\n",
    "# Compute the probability of occurrence of each character after adding the \n",
    "#    LaPlace pseudocount i.e., +1 added to each base\n",
    "\n",
    "# Compute the 36 log-odd scores (log of observed/expected) where expected is 0.22\n",
    "#     for C and G and 0.28 for A and T, and the log is taken in base 2\n",
    "\n",
    "for i in range(9):\n",
    "    a[i] = round(math.log(((a[i] + 1)/11)/0.28,2),3)\n",
    "    c[i] = round(math.log(((c[i] + 1)/11)/0.22,2),3)\n",
    "    g[i] = round(math.log(((g[i] + 1)/11)/0.22,2),3)\n",
    "    t[i] = round(math.log(((t[i] + 1)/11)/0.28,2),3)\n",
    "\n",
    "# Write the 36 values of the entries of the PWM into a file mog_9mers_pwm.txt,\n",
    "# mog_9mers_pwm.txt should have 4 rows with 9 values in each row\n",
    "\n",
    "output_file = open(\"mog_9mers_pwm.txt\",\"w\")\n",
    "for i in range(9):\n",
    "    output_file.write(str(a[i]) + '\\t')\n",
    "output_file.write(\"\\n\")\n",
    "for i in range(9):\n",
    "    output_file.write(str(c[i]) + '\\t')\n",
    "output_file.write(\"\\n\")\n",
    "for i in range(9):\n",
    "    output_file.write(str(g[i]) + '\\t')\n",
    "output_file.write(\"\\n\")\n",
    "for i in range(9):\n",
    "    output_file.write(str(t[i]) + '\\t')\n",
    "output_file.write(\"\\n\")\n",
    "\n",
    "output_file.close()"
   ]
  },
  {
   "cell_type": "markdown",
   "metadata": {},
   "source": [
    "Note: The output file of this hands-on exercise: <font color=blue>**mog_9mers_pwm.txt**</font>, will be used as input file to the program of the next hands-on exercise: score_9mers_MOG.py, that will compute the score of the 9 mers of the MOG gene. \n"
   ]
  },
  {
   "cell_type": "code",
   "execution_count": null,
   "metadata": {},
   "outputs": [],
   "source": []
  }
 ],
 "metadata": {
  "kernelspec": {
   "display_name": "Python 3 (ipykernel)",
   "language": "python",
   "name": "python3"
  },
  "language_info": {
   "codemirror_mode": {
    "name": "ipython",
    "version": 3
   },
   "file_extension": ".py",
   "mimetype": "text/x-python",
   "name": "python",
   "nbconvert_exporter": "python",
   "pygments_lexer": "ipython3",
   "version": "3.9.13"
  }
 },
 "nbformat": 4,
 "nbformat_minor": 4
}
