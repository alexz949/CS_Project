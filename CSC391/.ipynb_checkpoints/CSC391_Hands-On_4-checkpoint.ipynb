{
 "cells": [
  {
   "cell_type": "markdown",
   "metadata": {},
   "source": [
    "## Hands-On 4  - [Last Updated: January 2, 2023]"
   ]
  },
  {
   "cell_type": "markdown",
   "metadata": {
    "tags": []
   },
   "source": [
    "### $\\color{blue}{\\text{Problem 4}}$ [CSC391_HO4_4.py]"
   ]
  },
  {
   "cell_type": "markdown",
   "metadata": {
    "tags": []
   },
   "source": [
    "Write a program: CSC391_HO4_4.py, that allows the user to enter a short DNA sequence that is assigned to the identifier dna_string. The program then computes and outputs the percentage of G’s and C’s in dna_string. <br>\n",
    "Example: <br>\n",
    "Input:   ACCGTACGAT <br>\n",
    "Output: 50"
   ]
  },
  {
   "cell_type": "code",
   "execution_count": 3,
   "metadata": {},
   "outputs": [
    {
     "name": "stdout",
     "output_type": "stream",
     "text": [
      "ACCGTACGAT\n",
      " Percentage of GC is 50.0\n"
     ]
    }
   ],
   "source": [
    "#  CSC391_HO4_4.py\n",
    "#\n",
    "dna_string= input()\n",
    "length= len(dna_string)\n",
    "g_count= dna_string.count('G')\n",
    "c_count= dna_string.count('C')\n",
    "gc_content= (g_count + c_count) * 100  / length\n",
    "gc_percent= round(gc_content, 2)\n",
    "\n",
    "print(\" Percentage of GC is\", gc_percent)"
   ]
  },
  {
   "cell_type": "markdown",
   "metadata": {
    "tags": []
   },
   "source": [
    "### $\\color{blue}{\\text{Problem 4}}$ [CSC391_HO4_5.py]"
   ]
  },
  {
   "cell_type": "code",
   "execution_count": 6,
   "metadata": {},
   "outputs": [
    {
     "name": "stdout",
     "output_type": "stream",
     "text": [
      "['CCC', 'C'] ['purine', 'pyrimidine']\n",
      " BLOCK\n"
     ]
    }
   ],
   "source": [
    "#  CSC391_HO4_5.py\n",
    "#\n",
    "# A) Replace XXXXX so as to have the program output: \n",
    "# ['CCG', ‘C’, 'purine', 'pyrimidine']\n",
    "# \n",
    "alpha = ['CCC', 'C']\n",
    "rings = ['purine', 'pyrimidine']\n",
    "print (alpha +  rings)\n",
    "\n",
    "# B) Replace XXXXX so as to have the program output: BLOCK\n",
    "#\n",
    "pres_string = \" \"\n",
    "presidents = [\"Biden\", \"Lincoln\", \"Obama\", \"Clinton\", \"Kennedy\"]\n",
    "for pres in presidents:\n",
    "    pres_string = pres_string +  pres[0]\n",
    "print(pres_string)"
   ]
  },
  {
   "cell_type": "code",
   "execution_count": null,
   "metadata": {},
   "outputs": [],
   "source": []
  }
 ],
 "metadata": {
  "kernelspec": {
   "display_name": "Python 3",
   "language": "python",
   "name": "python3"
  },
  "language_info": {
   "codemirror_mode": {
    "name": "ipython",
    "version": 3
   },
   "file_extension": ".py",
   "mimetype": "text/x-python",
   "name": "python",
   "nbconvert_exporter": "python",
   "pygments_lexer": "ipython3",
   "version": "3.8.8"
  }
 },
 "nbformat": 4,
 "nbformat_minor": 4
}
