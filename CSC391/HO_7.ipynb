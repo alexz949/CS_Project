{
 "cells": [
  {
   "cell_type": "code",
   "execution_count": null,
   "id": "12d3a785",
   "metadata": {},
   "outputs": [],
   "source": [
    "def naive(p,t):\n",
    "    p_size = len(p)\n",
    "    t_size = len(t)\n",
    "    for i in range(0,t_size):\n",
    "        if(t[i:i+p_size] == p):\n",
    "            return i\n",
    "\n",
    "#main_program\n",
    "\n",
    "        \n",
    "    "
   ]
  }
 ],
 "metadata": {
  "kernelspec": {
   "display_name": "Python 3 (ipykernel)",
   "language": "python",
   "name": "python3"
  },
  "language_info": {
   "codemirror_mode": {
    "name": "ipython",
    "version": 3
   },
   "file_extension": ".py",
   "mimetype": "text/x-python",
   "name": "python",
   "nbconvert_exporter": "python",
   "pygments_lexer": "ipython3",
   "version": "3.9.13"
  }
 },
 "nbformat": 4,
 "nbformat_minor": 5
}
