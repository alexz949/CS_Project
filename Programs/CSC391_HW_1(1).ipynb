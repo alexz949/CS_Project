{
 "cells": [
  {
   "cell_type": "markdown",
   "metadata": {
    "tags": []
   },
   "source": [
    "## HW One"
   ]
  },
  {
   "cell_type": "markdown",
   "metadata": {},
   "source": [
    "Please submit, via Canvas, your solutions to the following problems, by 11:59 pm, on $\\color{blue}{\\text{Thursday, February 2, 2023}}$."
   ]
  },
  {
   "cell_type": "markdown",
   "metadata": {
    "tags": []
   },
   "source": [
    "## $\\color{blue}{\\text{Problem One - Working with Lists}}$"
   ]
  },
  {
   "cell_type": "markdown",
   "metadata": {},
   "source": [
    "Write and run a Python program, CSC391_HW1_1.py, that does the following:\n",
    "* a) Creates and prints a list, organisms, which contains six different species: mouse, rat, human, turtle, whale, and bee.\n",
    "* b) Prints out the second and fourth elements on two different lines.\n",
    "* c) Prints out the second, third, and fourth elements on the same line.\n",
    "* d) Prints out the size of the list.\n",
    "* e) Sorts and prints the elements of the list in “alphabetical order”.\n",
    "* f) Replaces and prints the second, fourth and sixth elements with three new species of your choice.   \n"
   ]
  },
  {
   "cell_type": "markdown",
   "metadata": {
    "tags": []
   },
   "source": [
    "## Solution"
   ]
  },
  {
   "cell_type": "code",
   "execution_count": 29,
   "metadata": {},
   "outputs": [
    {
     "name": "stdout",
     "output_type": "stream",
     "text": [
      "['mouse', 'rat', 'human', 'turtle', 'whale', 'bee']\n",
      "rat\n",
      "turtle\n",
      "rat human turtle\n",
      "6\n",
      "['bee', 'human', 'mouse', 'rat', 'turtle', 'whale']\n",
      "['bee', 'dog', 'mouse', 'sheep', 'turtle', 'monkey']\n"
     ]
    }
   ],
   "source": [
    "#a\n",
    "organisms = ['mouse','rat','human','turtle','whale','bee']\n",
    "print(organisms)\n",
    "\n",
    "#b\n",
    "print(organisms[1] + \"\\n\" + organisms[3])\n",
    "\n",
    "#c\n",
    "print(organisms[1], organisms[2], organisms[3])\n",
    "\n",
    "#d\n",
    "print(len(organisms))\n",
    "\n",
    "#e\n",
    "organisms.sort()\n",
    "print(organisms)\n",
    "\n",
    "#f\n",
    "organisms[1] = \"dog\"\n",
    "organisms[3] = \"sheep\"\n",
    "organisms[5] = \"monkey\"\n",
    "print(organisms)"
   ]
  },
  {
   "cell_type": "markdown",
   "metadata": {
    "tags": []
   },
   "source": [
    "## $\\color{blue}{\\text{Problem Two - Frequency of DNA Nucleotides}}$"
   ]
  },
  {
   "cell_type": "markdown",
   "metadata": {},
   "source": [
    "Given a file: dna_strings.txt, that contains six short DNA sequences, one per line.   <br>\n",
    "Write a Python program, CSC391_HW1_2.py, to perform the following tasks:\n",
    "* 1.\tCreates and prints a list, dna_list, whose elements are the DNA sequences from the file dna_strings.txt. Hint: Use split( ) to create dna_list with 6 elements.\n",
    "* 2.\tIterates over the elements of dna_list to: <br>\n",
    "i)\tprint the DNA sequence <br>\n",
    "ii)\tcount the occurrences of A’s, C’s, G’s, and T’s, saved in a_count, c_count, g_count, and t_count. \n",
    "* 3.\tWrite and run a function that takes a_count, c_count, g_count, and t_count as arguments and prints the percentage of A, C, G and T in each of the six DNA sequences.\n"
   ]
  },
  {
   "cell_type": "markdown",
   "metadata": {},
   "source": [
    "## Solution"
   ]
  },
  {
   "cell_type": "code",
   "execution_count": 1,
   "metadata": {},
   "outputs": [
    {
     "name": "stdout",
     "output_type": "stream",
     "text": [
      "['ATGACGTCAGATCAGTAAGCTA', 'AGCAGTCAGATCAAAGGTCC', 'GACTAAGTCCCCTGATGG', 'TAGTTGTGACACAGTGTGTGTACACA', 'CGATAGTACGATTGTGCACAGTTG', 'ACAGTAGACTGATCAGT']\n",
      "DNA: ATGACGTCAGATCAGTAAGCTA\n",
      "\tPercentage of a: 36.36363636363637\n",
      "\tPercentage of c: 18.181818181818183\n",
      "\tPercentage of g: 22.727272727272727\n",
      "\tPercentage of t: 22.727272727272727\n",
      "-----------------------------\n",
      "\n",
      "DNA: AGCAGTCAGATCAAAGGTCC\n",
      "\tPercentage of a: 35.0\n",
      "\tPercentage of c: 25.0\n",
      "\tPercentage of g: 25.0\n",
      "\tPercentage of t: 15.0\n",
      "-----------------------------\n",
      "\n",
      "DNA: GACTAAGTCCCCTGATGG\n",
      "\tPercentage of a: 22.22222222222222\n",
      "\tPercentage of c: 27.77777777777778\n",
      "\tPercentage of g: 27.77777777777778\n",
      "\tPercentage of t: 22.22222222222222\n",
      "-----------------------------\n",
      "\n",
      "DNA: TAGTTGTGACACAGTGTGTGTACACA\n",
      "\tPercentage of a: 26.923076923076923\n",
      "\tPercentage of c: 15.384615384615385\n",
      "\tPercentage of g: 26.923076923076923\n",
      "\tPercentage of t: 30.76923076923077\n",
      "-----------------------------\n",
      "\n",
      "DNA: CGATAGTACGATTGTGCACAGTTG\n",
      "\tPercentage of a: 25.0\n",
      "\tPercentage of c: 16.666666666666668\n",
      "\tPercentage of g: 29.166666666666668\n",
      "\tPercentage of t: 29.166666666666668\n",
      "-----------------------------\n",
      "\n",
      "DNA: ACAGTAGACTGATCAGT\n",
      "\tPercentage of a: 35.294117647058826\n",
      "\tPercentage of c: 17.647058823529413\n",
      "\tPercentage of g: 23.529411764705884\n",
      "\tPercentage of t: 23.529411764705884\n",
      "-----------------------------\n",
      "\n"
     ]
    }
   ],
   "source": [
    "# CSC391_HW1_2.py\n",
    "# Author: XXXXXXXXXXXXXXXXXX\n",
    "# Last Updated: XXXXXXXXXXXXXXXXXXXXX\n",
    "# Purpose: Program to review lists and functions in Python\n",
    "# Program uses the Python methods read(), split(), count() and the Python\n",
    "#    function open()\n",
    "# The program also uses a user defined function print_percentage() to\n",
    "#    calculate and pront the percentage of A, C, G and T\n",
    "#\n",
    "\n",
    "# 3. Write a function that takes the A, C, G and T count as arguments and\n",
    "# prints the percentage of A, C, G and T\n",
    "def print_percentage(a_count, c_count, g_count, t_count):\n",
    "    \"\"\"Given the count of each base as argument, the funtion\n",
    "       computes and prints the percentage of each base\"\"\"\n",
    "    length = a_count + c_count + g_count + t_count\n",
    "    print(\"\\tPercentage of a:\", (a_count * 100)/length)\n",
    "    print(\"\\tPercentage of c:\", (c_count * 100)/length)\n",
    "    print(\"\\tPercentage of g:\", (g_count * 100)/length)\n",
    "    print(\"\\tPercentage of t:\", (t_count * 100)/length)\n",
    "    print(\"-----------------------------\" + \"\\n\")\n",
    "\n",
    "# main program\n",
    "# Open \"dna_strings.txt\"    \n",
    "input_file = open(\"dna_strings.txt\", \"r\")\n",
    "\n",
    "# Read the contents of \"dna_strings.txt\"\n",
    "file_contents = input_file.read()\n",
    "          \n",
    "# 1. Create a list from the contents of the file\n",
    "dna_list = file_contents.split(\"\\n\")\n",
    "print (dna_list)\n",
    "\n",
    "# 2. Iterate over the elements of dna_list\n",
    "for ele in dna_list:\n",
    "    # 2.i) Print the dna sequence\n",
    "    print(\"DNA: \" + ele)\n",
    "    # 2.ii) For each element, count the number of times the letters\n",
    "    #       A, C, G and T occur\n",
    "    a_count = ele.count(\"A\")\n",
    "    c_count = ele.count(\"C\")\n",
    "    g_count = ele.count(\"G\")\n",
    "    t_count = ele.count(\"T\")\n",
    "    print_percentage(a_count,c_count,g_count, t_count)\n",
    "\n",
    "# Close the \"dna_strings.txt\"    \n",
    "input_file.close()"
   ]
  },
  {
   "cell_type": "markdown",
   "metadata": {},
   "source": [
    "## $\\color{blue}{\\text{Problem Four - Looking for Start Codons}}$"
   ]
  },
  {
   "cell_type": "markdown",
   "metadata": {},
   "source": [
    "Go to NCBI: http://www.ncbi.nlm.nih.gov/ and retrieve the RNA sequence with accession number: AB000410. Save the sequence in FASTA Format, in a file: hOGG1_gene.txt. Note that although the sequence is an RNA, the sequence has Thymine instead of Uracil. <br>\n",
    "The first line of the FASTA Format starts with > followed by a few words describing the sequence. The sequence itself starts on the very next line. \n",
    "Most proteins start with the amino acid Methionine. The codon ATG translates into Methionine. <br>\n",
    "Write a program: CSC391_HW1_4.py, that reads the sequence saved in hOGG1_gene.txt and outputs to the screen, the starting positions of all ATGs it finds in the sequence.  <br>\n",
    "Example: The first line of output should be: <br>\n",
    "Starting position of Methionine: 84 <br>\n",
    "Note that OGG1 stands for 8-oxoguanine DNA glycosylase 1. It is a DNA repair enzyme.\n"
   ]
  },
  {
   "cell_type": "markdown",
   "metadata": {
    "tags": []
   },
   "source": [
    "## Solution"
   ]
  },
  {
   "cell_type": "code",
   "execution_count": 3,
   "metadata": {},
   "outputs": [
    {
     "name": "stdout",
     "output_type": "stream",
     "text": [
      "1559\n",
      "84\n",
      "106\n",
      "270\n",
      "300\n",
      "458\n",
      "577\n",
      "686\n",
      "741\n",
      "790\n",
      "793\n",
      "805\n",
      "967\n",
      "1038\n",
      "1072\n",
      "1080\n",
      "1198\n",
      "1252\n",
      "1308\n",
      "1390\n",
      "1467\n",
      "1503\n",
      "1557\n"
     ]
    }
   ],
   "source": [
    "# CSC391_HW1_4.py\n",
    "# Author: XXXXXXXXXXXXXXXXXXXXXXXXXXX\n",
    "# Last updated: XXXXXXXXXXXXXXXXXXXXXXXXXXXXXXXX\n",
    "# Program to get the starting positions of Methionine in an RNA sequence\n",
    "# Program uses the Python functions open(), len(), print() and the Python \n",
    "#     methods read(), find(), count().\n",
    "# \n",
    "\n",
    "# Open the input file \n",
    "f = open(\"hOGG1_gene.txt\",\"r\")\n",
    "# Read the contents of the input file\n",
    "file_contents = f.read()\n",
    "\n",
    "# Eliminate the first header line of the input file\n",
    "file_contents = \"\".join(file_contents.split(\"\\n\")[1:])\n",
    "# print(len_data)\n",
    "print(len(file_contents))\n",
    "# Count the number of times the methionine ATG occurs in the file\n",
    "# Assign it to the variable methionine_count\n",
    "methionine_count = file_contents.count(\"ATG\")\n",
    "\n",
    "# Intializing the add_location variable to 0\n",
    "add_location = 0\n",
    "# Run a for loop to traverse through the DNA sequence\n",
    "# This loop runs from 0 to the number of occurrences of methionine that are detected\n",
    "# i.e 0 to the value of the variable methionine_count\n",
    "for i in range(0,methionine_count,1):\n",
    "    # Find the location of the first occurring methionine in the input data and assign it\n",
    "    # to the varible methionine_location \n",
    "    methionine_location = file_contents.find(\"ATG\")\n",
    "    # Update the add_location variable\n",
    "    add_location = add_location + methionine_location\n",
    "    # Remove the part of the input data upto the methionine_location index to avoid detecting\n",
    "    #   the same methionine again\n",
    "    file_contents = file_contents[methionine_location+3:]\n",
    "    # Print the starting location of the methionine detected\n",
    "    print(add_location+2)\n",
    "    # Update add_location to account for the 3 characters in the methionine\n",
    "    #  i.e add 3 to the value of add_location\n",
    "    add_location = add_location + 3\n",
    "    \n",
    "    \n",
    "\n",
    "# Always a close a file at the end\n",
    "f.close()\n",
    "\n",
    "# The add_location variable is used because the string we are trying to detect is a\n",
    "# 3 character long string - \"ATG\". So if we extract the index of ATG, we actually get the index\n",
    "# of A. So we need to increment it by 3 at the end of the loop."
   ]
  },
  {
   "cell_type": "markdown",
   "metadata": {
    "tags": []
   },
   "source": [
    "## $\\color{blue}{\\text{Problem Six - Gene Transcription and Translation}}$ "
   ]
  },
  {
   "cell_type": "markdown",
   "metadata": {},
   "source": [
    "a)\tGo over “Notebook 3.2: Gene transcription and translation” at \n",
    "https://eaton-lab.org/slides/genomics/answers/nb-3.2-transcription-translation.html.\n",
    "Note that all the Python cells of the JN can be found in CSC391_HW1_6.py."
   ]
  },
  {
   "cell_type": "markdown",
   "metadata": {},
   "source": [
    "### The genetic code"
   ]
  },
  {
   "cell_type": "code",
   "execution_count": 32,
   "metadata": {
    "tags": []
   },
   "outputs": [
    {
     "data": {
      "text/plain": [
       "'L'"
      ]
     },
     "execution_count": 32,
     "metadata": {},
     "output_type": "execute_result"
    }
   ],
   "source": [
    "# CSC391_HW1_6.py\n",
    "\n",
    "### The genetic code\n",
    "# Note: '*' is used for the stop codon instead of '_'\n",
    "\n",
    "GENCODE = {\n",
    "    'ATA': 'I', 'ATC': 'I', 'ATT': 'I', 'ATG': 'M', \n",
    "    'ACA': 'T', 'ACC': 'T', 'ACG': 'T', 'ACT': 'T', \n",
    "    'AAC': 'N', 'AAT': 'N', 'AAA': 'K', 'AAG': 'K', \n",
    "    'AGC': 'S', 'AGT': 'S', 'AGA': 'R', 'AGG': 'R',                  \n",
    "    'CTA': 'L', 'CTC': 'L', 'CTG': 'L', 'CTT': 'L', \n",
    "    'CCA': 'P', 'CCC': 'P', 'CCG': 'P', 'CCT': 'P', \n",
    "    'CAC': 'H', 'CAT': 'H', 'CAA': 'Q', 'CAG': 'Q', \n",
    "    'CGA': 'R', 'CGC': 'R', 'CGG': 'R', 'CGT': 'R', \n",
    "    'GTA': 'V', 'GTC': 'V', 'GTG': 'V', 'GTT': 'V', \n",
    "    'GCA': 'A', 'GCC': 'A', 'GCG': 'A', 'GCT': 'A', \n",
    "    'GAC': 'D', 'GAT': 'D', 'GAA': 'E', 'GAG': 'E', \n",
    "    'GGA': 'G', 'GGC': 'G', 'GGG': 'G', 'GGT': 'G', \n",
    "    'TCA': 'S', 'TCC': 'S', 'TCG': 'S', 'TCT': 'S', \n",
    "    'TTC': 'F', 'TTT': 'F', 'TTA': 'L', 'TTG': 'L', \n",
    "    'TAC': 'Y', 'TAT': 'Y', 'TAA': '*', 'TAG': '*', \n",
    "    'TGC': 'C', 'TGT': 'C', 'TGA': '*', 'TGG': 'W', \n",
    "}\n",
    "GENCODE[\"CTA\"]"
   ]
  },
  {
   "cell_type": "markdown",
   "metadata": {},
   "source": [
    "### A biological example"
   ]
  },
  {
   "cell_type": "code",
   "execution_count": null,
   "metadata": {},
   "outputs": [],
   "source": [
    "### A biological example\n",
    "\n",
    "# we'll use the random function \n",
    "import random"
   ]
  },
  {
   "cell_type": "code",
   "execution_count": 21,
   "metadata": {},
   "outputs": [
    {
     "ename": "NameError",
     "evalue": "name 'random' is not defined",
     "output_type": "error",
     "traceback": [
      "\u001b[1;31m---------------------------------------------------------------------------\u001b[0m",
      "\u001b[1;31mNameError\u001b[0m                                 Traceback (most recent call last)",
      "\u001b[1;32m~\\AppData\\Local\\Temp\\ipykernel_53128\\2403801166.py\u001b[0m in \u001b[0;36m<module>\u001b[1;34m\u001b[0m\n\u001b[0;32m      6\u001b[0m     \u001b[1;32mreturn\u001b[0m \u001b[0mseq\u001b[0m\u001b[1;33m\u001b[0m\u001b[1;33m\u001b[0m\u001b[0m\n\u001b[0;32m      7\u001b[0m \u001b[1;33m\u001b[0m\u001b[0m\n\u001b[1;32m----> 8\u001b[1;33m \u001b[0mrandom_dna\u001b[0m\u001b[1;33m(\u001b[0m\u001b[1;36m20\u001b[0m\u001b[1;33m)\u001b[0m\u001b[1;33m\u001b[0m\u001b[1;33m\u001b[0m\u001b[0m\n\u001b[0m",
      "\u001b[1;32m~\\AppData\\Local\\Temp\\ipykernel_53128\\2403801166.py\u001b[0m in \u001b[0;36mrandom_dna\u001b[1;34m(length)\u001b[0m\n\u001b[0;32m      3\u001b[0m \u001b[1;32mdef\u001b[0m \u001b[0mrandom_dna\u001b[0m\u001b[1;33m(\u001b[0m\u001b[0mlength\u001b[0m\u001b[1;33m)\u001b[0m\u001b[1;33m:\u001b[0m\u001b[1;33m\u001b[0m\u001b[1;33m\u001b[0m\u001b[0m\n\u001b[0;32m      4\u001b[0m     \u001b[1;34m\"returns a string of randomly drawn bases of A,C,T,G\"\u001b[0m\u001b[1;33m\u001b[0m\u001b[1;33m\u001b[0m\u001b[0m\n\u001b[1;32m----> 5\u001b[1;33m     \u001b[0mseq\u001b[0m \u001b[1;33m=\u001b[0m \u001b[1;34m\"\"\u001b[0m\u001b[1;33m.\u001b[0m\u001b[0mjoin\u001b[0m\u001b[1;33m(\u001b[0m\u001b[1;33m[\u001b[0m\u001b[0mrandom\u001b[0m\u001b[1;33m.\u001b[0m\u001b[0mchoice\u001b[0m\u001b[1;33m(\u001b[0m\u001b[1;34m\"ACGT\"\u001b[0m\u001b[1;33m)\u001b[0m \u001b[1;32mfor\u001b[0m \u001b[0mi\u001b[0m \u001b[1;32min\u001b[0m \u001b[0mrange\u001b[0m\u001b[1;33m(\u001b[0m\u001b[0mlength\u001b[0m\u001b[1;33m)\u001b[0m\u001b[1;33m]\u001b[0m\u001b[1;33m)\u001b[0m\u001b[1;33m\u001b[0m\u001b[1;33m\u001b[0m\u001b[0m\n\u001b[0m\u001b[0;32m      6\u001b[0m     \u001b[1;32mreturn\u001b[0m \u001b[0mseq\u001b[0m\u001b[1;33m\u001b[0m\u001b[1;33m\u001b[0m\u001b[0m\n\u001b[0;32m      7\u001b[0m \u001b[1;33m\u001b[0m\u001b[0m\n",
      "\u001b[1;32m~\\AppData\\Local\\Temp\\ipykernel_53128\\2403801166.py\u001b[0m in \u001b[0;36m<listcomp>\u001b[1;34m(.0)\u001b[0m\n\u001b[0;32m      3\u001b[0m \u001b[1;32mdef\u001b[0m \u001b[0mrandom_dna\u001b[0m\u001b[1;33m(\u001b[0m\u001b[0mlength\u001b[0m\u001b[1;33m)\u001b[0m\u001b[1;33m:\u001b[0m\u001b[1;33m\u001b[0m\u001b[1;33m\u001b[0m\u001b[0m\n\u001b[0;32m      4\u001b[0m     \u001b[1;34m\"returns a string of randomly drawn bases of A,C,T,G\"\u001b[0m\u001b[1;33m\u001b[0m\u001b[1;33m\u001b[0m\u001b[0m\n\u001b[1;32m----> 5\u001b[1;33m     \u001b[0mseq\u001b[0m \u001b[1;33m=\u001b[0m \u001b[1;34m\"\"\u001b[0m\u001b[1;33m.\u001b[0m\u001b[0mjoin\u001b[0m\u001b[1;33m(\u001b[0m\u001b[1;33m[\u001b[0m\u001b[0mrandom\u001b[0m\u001b[1;33m.\u001b[0m\u001b[0mchoice\u001b[0m\u001b[1;33m(\u001b[0m\u001b[1;34m\"ACGT\"\u001b[0m\u001b[1;33m)\u001b[0m \u001b[1;32mfor\u001b[0m \u001b[0mi\u001b[0m \u001b[1;32min\u001b[0m \u001b[0mrange\u001b[0m\u001b[1;33m(\u001b[0m\u001b[0mlength\u001b[0m\u001b[1;33m)\u001b[0m\u001b[1;33m]\u001b[0m\u001b[1;33m)\u001b[0m\u001b[1;33m\u001b[0m\u001b[1;33m\u001b[0m\u001b[0m\n\u001b[0m\u001b[0;32m      6\u001b[0m     \u001b[1;32mreturn\u001b[0m \u001b[0mseq\u001b[0m\u001b[1;33m\u001b[0m\u001b[1;33m\u001b[0m\u001b[0m\n\u001b[0;32m      7\u001b[0m \u001b[1;33m\u001b[0m\u001b[0m\n",
      "\u001b[1;31mNameError\u001b[0m: name 'random' is not defined"
     ]
    }
   ],
   "source": [
    "######  nb-3.2 random_dna(length)\n",
    "\n",
    "def random_dna(length):\n",
    "    \"returns a string of randomly drawn bases of A,C,T,G\"\n",
    "    seq = \"\".join([random.choice(\"ACGT\") for i in range(length)])\n",
    "    return seq\n",
    "\n",
    "random_dna(20)"
   ]
  },
  {
   "cell_type": "code",
   "execution_count": null,
   "metadata": {},
   "outputs": [],
   "source": [
    "###### This code is equivalent to nb-3.2 random_dna(length)\n",
    "\n",
    "def random_dna(length):\n",
    "    \"returns a string of randomly drawn bases of A,C,T,G\"\n",
    "    seq = \"\"\n",
    "    for i in range(length):\n",
    "        seq = seq + random.choice(\"ACGT\")\n",
    "    return seq\n",
    "\n",
    "random_dna(20)"
   ]
  },
  {
   "cell_type": "code",
   "execution_count": null,
   "metadata": {},
   "outputs": [],
   "source": [
    "######  nb-3.2 random_coding_dna(length)\n",
    "\n",
    "def random_coding_dna(length):\n",
    "    \"\"\"\n",
    "    returns a string of (length) joined random triplets of bases\n",
    "    (codons) not including start or stop codons. \n",
    "    \"\"\"\n",
    "    # empty string to fill\n",
    "    seq = \"\"\n",
    "    \n",
    "    # list of all codons except start and stops\n",
    "    codons = [\n",
    "        i for i in GENCODE.keys() if i not in\n",
    "        [\"ATG\", \"TGA\", \"TAA\", \"TAG\"]\n",
    "    ]\n",
    "    \n",
    "    # fill string with n random codons\n",
    "    seq = \"\".join([random.choice(codons) for i in range(length)])\n",
    "    return seq\n",
    "\n",
    "random_coding_dna(20)"
   ]
  },
  {
   "cell_type": "code",
   "execution_count": null,
   "metadata": {},
   "outputs": [],
   "source": [
    "###### This code is equivalent to nb-3.2 random_coding_dna(length)\n",
    "\n",
    "def random_coding_dna(length):\n",
    "    \"\"\"\n",
    "    returns a string of (length) joined random triplets of bases\n",
    "    (codons) not including start or stop codons. \n",
    "    \"\"\"\n",
    "    # empty string to fill\n",
    "    seq = \"\"\n",
    "    \n",
    "    # list of all codons except start and stops\n",
    "    codons = []\n",
    "    for i in GENCODE.keys(): \n",
    "        if i not in [\"ATG\", \"TGA\", \"TAA\", \"TAG\"]:\n",
    "            codons = codons + [i]\n",
    "\n",
    "    # fill string with n random codons\n",
    "    ran_seq = \"\"\n",
    "    for i in range(length):\n",
    "        ran_seq = ran_seq + random.choice(codons)\n",
    "        \n",
    "    seq = \"\".join(ran_seq)\n",
    "    return seq\n",
    "\n",
    "random_coding_dna(20)"
   ]
  },
  {
   "cell_type": "markdown",
   "metadata": {},
   "source": [
    "### Start and stop codons"
   ]
  },
  {
   "cell_type": "code",
   "execution_count": 28,
   "metadata": {},
   "outputs": [
    {
     "name": "stdout",
     "output_type": "stream",
     "text": [
      "1506\n"
     ]
    }
   ],
   "source": [
    "### Start and stop codons\n",
    "# use a random seed so we will all draw the same random values each time (repeatable)\n",
    "random.seed(12345)\n",
    "\n",
    "# create a genomic region containing a coding region surrounded by non-coding DNA\n",
    "region = random_dna(300) + \"ATG\" + random_coding_dna(300) + \"TGA\" +  random_dna(300)\n",
    "region\n",
    "print(len(region))\n"
   ]
  },
  {
   "cell_type": "markdown",
   "metadata": {},
   "source": [
    "### Explore transcription with Python dictionaries"
   ]
  },
  {
   "cell_type": "code",
   "execution_count": null,
   "metadata": {},
   "outputs": [],
   "source": [
    "# finds position of the first occurrence and returns it as an integer\n",
    "region.index(\"ATG\")"
   ]
  },
  {
   "cell_type": "code",
   "execution_count": null,
   "metadata": {},
   "outputs": [],
   "source": [
    "# split on every occurence to return a list, and count the length of the list\n",
    "# region.split(\"ATG\")\n",
    "len(region.split(\"ATG\"))"
   ]
  },
  {
   "cell_type": "code",
   "execution_count": null,
   "metadata": {},
   "outputs": [],
   "source": [
    "######  nb-3.2 ATG start position\n",
    "\n",
    "# best: get a list with every ATG start position\n",
    "starts = [i for (i, j) in enumerate(region) if region[i: i+3] == \"ATG\"]\n",
    "starts"
   ]
  },
  {
   "cell_type": "code",
   "execution_count": 22,
   "metadata": {},
   "outputs": [
    {
     "ename": "NameError",
     "evalue": "name 'region' is not defined",
     "output_type": "error",
     "traceback": [
      "\u001b[1;31m---------------------------------------------------------------------------\u001b[0m",
      "\u001b[1;31mNameError\u001b[0m                                 Traceback (most recent call last)",
      "\u001b[1;32m~\\AppData\\Local\\Temp\\ipykernel_53128\\3788264213.py\u001b[0m in \u001b[0;36m<module>\u001b[1;34m\u001b[0m\n\u001b[0;32m      3\u001b[0m \u001b[1;31m# best: get a list with every ATG start position\u001b[0m\u001b[1;33m\u001b[0m\u001b[1;33m\u001b[0m\u001b[0m\n\u001b[0;32m      4\u001b[0m \u001b[0mstarts\u001b[0m \u001b[1;33m=\u001b[0m \u001b[1;33m[\u001b[0m\u001b[1;33m]\u001b[0m\u001b[1;33m\u001b[0m\u001b[1;33m\u001b[0m\u001b[0m\n\u001b[1;32m----> 5\u001b[1;33m \u001b[1;32mfor\u001b[0m \u001b[1;33m(\u001b[0m\u001b[0mi\u001b[0m\u001b[1;33m,\u001b[0m \u001b[0mj\u001b[0m\u001b[1;33m)\u001b[0m \u001b[1;32min\u001b[0m \u001b[0menumerate\u001b[0m\u001b[1;33m(\u001b[0m\u001b[0mregion\u001b[0m\u001b[1;33m)\u001b[0m\u001b[1;33m:\u001b[0m\u001b[1;33m\u001b[0m\u001b[1;33m\u001b[0m\u001b[0m\n\u001b[0m\u001b[0;32m      6\u001b[0m     \u001b[1;32mif\u001b[0m \u001b[0mregion\u001b[0m\u001b[1;33m[\u001b[0m\u001b[0mi\u001b[0m\u001b[1;33m:\u001b[0m \u001b[0mi\u001b[0m\u001b[1;33m+\u001b[0m\u001b[1;36m3\u001b[0m\u001b[1;33m]\u001b[0m \u001b[1;33m==\u001b[0m \u001b[1;34m\"ATG\"\u001b[0m\u001b[1;33m:\u001b[0m\u001b[1;33m\u001b[0m\u001b[1;33m\u001b[0m\u001b[0m\n\u001b[0;32m      7\u001b[0m         \u001b[0mstarts\u001b[0m \u001b[1;33m=\u001b[0m \u001b[0mstarts\u001b[0m \u001b[1;33m+\u001b[0m \u001b[1;33m[\u001b[0m\u001b[0mi\u001b[0m\u001b[1;33m]\u001b[0m\u001b[1;33m\u001b[0m\u001b[1;33m\u001b[0m\u001b[0m\n",
      "\u001b[1;31mNameError\u001b[0m: name 'region' is not defined"
     ]
    }
   ],
   "source": [
    "######  This code is equivalent to nb-3.2 ATG start position\n",
    "\n",
    "# best: get a list with every ATG start position\n",
    "starts = [] \n",
    "for (i, j) in enumerate(region): \n",
    "    if region[i: i+3] == \"ATG\":\n",
    "        starts = starts + [i]\n",
    "starts"
   ]
  },
  {
   "cell_type": "code",
   "execution_count": null,
   "metadata": {},
   "outputs": [],
   "source": [
    "######  nb-3.2 test for Open Reading Frame\n",
    "\n",
    "# test from each start position how many subsequent triplets are valid codons\n",
    "for start_pos in starts:\n",
    "    \n",
    "    # a counter for the number of codons until next stop codon\n",
    "    ncodons = 0\n",
    "    \n",
    "    # a counter to advance 3 positions at a time\n",
    "    idx = start_pos\n",
    "    \n",
    "    # a loop to continue until told to stop (break)\n",
    "    while 1:\n",
    "        \n",
    "        # get codon from this position until + 3 \n",
    "        codon = region[idx: idx + 3]\n",
    "        \n",
    "        # if this is a stop codon then move on to the next start_pos\n",
    "        #print(idx, len(region), codon)\n",
    "        if GENCODE[codon] == \"*\":\n",
    "            print(\"start pos: {:<3}, codons until stop: {}\".format(start_pos, ncodons))\n",
    "            break\n",
    "            \n",
    "        # if not a stop codon then advance 3 more steps\n",
    "        else:\n",
    "            # advance position \n",
    "            idx += 3\n",
    "            \n",
    "            # if next end pos is beyond the sequence end then break the loop\n",
    "            if idx + 3 >= len(region):\n",
    "                break  \n",
    "            # otherwise record that another codon was observed\n",
    "            else:\n",
    "                ncodons += 1"
   ]
  },
  {
   "cell_type": "code",
   "execution_count": null,
   "metadata": {},
   "outputs": [],
   "source": [
    "######  This code is equivalent to nb-3.2 test for Open Reading Frame\n",
    "\n",
    "# test from each start position how many subsequent triplets are valid codons\n",
    "for start_pos in starts:\n",
    "    \n",
    "    # a counter for the number of codons until next stop codon\n",
    "    ncodons = 0\n",
    "    \n",
    "    # a counter to advance 3 positions at a time\n",
    "    idx = start_pos\n",
    "    \n",
    "    # a loop to continue until told to stop (break)\n",
    "    while 1:\n",
    "        \n",
    "        # get codon from this position until + 3 \n",
    "        codon = region[idx: idx + 3]\n",
    "        \n",
    "        # if this is a stop codon then move on to the next start_pos\n",
    "        #print(idx, len(region), codon)\n",
    "        if GENCODE[codon] == \"*\":\n",
    "#            print(\"start pos: {:<3}, codons until stop: {}\".format(start_pos, ncodons))\n",
    "#            print(\"start pos: %s codons until stop: %s\" %(start_pos, ncodons))\n",
    "             print(\"start pos:\", start_pos, \"codons until stop:\", ncodons)            \n",
    "             break\n",
    "            \n",
    "        # if not a stop codon then advance 3 more steps\n",
    "        else:\n",
    "            # advance position \n",
    "            idx += 3\n",
    "            \n",
    "            # if next end pos is beyond the sequence end then break the loop\n",
    "            if idx + 3 >= len(region):\n",
    "                break  \n",
    "            # otherwise record that another codon was observed\n",
    "            else:\n",
    "                ncodons += 1"
   ]
  },
  {
   "cell_type": "code",
   "execution_count": null,
   "metadata": {},
   "outputs": [],
   "source": []
  }
 ],
 "metadata": {
  "kernelspec": {
   "display_name": "Python 3 (ipykernel)",
   "language": "python",
   "name": "python3"
  },
  "language_info": {
   "codemirror_mode": {
    "name": "ipython",
    "version": 3
   },
   "file_extension": ".py",
   "mimetype": "text/x-python",
   "name": "python",
   "nbconvert_exporter": "python",
   "pygments_lexer": "ipython3",
   "version": "3.9.13"
  }
 },
 "nbformat": 4,
 "nbformat_minor": 4
}
